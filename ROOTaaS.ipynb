{
 "cells": [
  {
   "cell_type": "code",
   "execution_count": null,
   "metadata": {
    "collapsed": false
   },
   "outputs": [],
   "source": [
    "std::cout<<\"Hello World\"<<std::endl;"
   ]
  },
  {
   "cell_type": "code",
   "execution_count": null,
   "metadata": {
    "collapsed": false
   },
   "outputs": [],
   "source": [
    "TCanvas *c=new TCanvas(\"c\");\n",
    "TF1 *f=new TF1(\"f\",\"sin(x)\",0,6);\n",
    "c->Draw();\n",
    "f->Draw();"
   ]
  },
  {
   "cell_type": "code",
   "execution_count": null,
   "metadata": {
    "collapsed": false
   },
   "outputs": [],
   "source": [
    "class Test\n",
    "{\n",
    "  public:\n",
    "    Test(){};\n",
    "    void Print()\n",
    "    {\n",
    "        std::cout<<\"Hello\"<<std::endl;\n",
    "    }\n",
    "};"
   ]
  },
  {
   "cell_type": "code",
   "execution_count": null,
   "metadata": {
    "collapsed": false
   },
   "outputs": [],
   "source": [
    "Test test;\n",
    "test.Print();"
   ]
  },
  {
   "cell_type": "code",
   "execution_count": null,
   "metadata": {
    "collapsed": false
   },
   "outputs": [],
   "source": [
    "std::cerr<<\"print error\"<<std::endl;"
   ]
  },
  {
   "cell_type": "code",
   "execution_count": 1,
   "metadata": {
    "collapsed": false
   },
   "outputs": [
    {
     "name": "stdout",
     "output_type": "stream",
     "text": []
    }
   ],
   "source": [
    "#include <cstdlib>\n",
    "#include <iostream>\n",
    "#include <map>\n",
    "#include <string>\n",
    "\n",
    "#include \"TChain.h\"\n",
    "#include \"TFile.h\"\n",
    "#include \"TTree.h\"\n",
    "#include \"TString.h\"\n",
    "#include \"TObjString.h\"\n",
    "#include \"TSystem.h\"\n",
    "#include \"TROOT.h\"\n",
    "\n",
    "\n",
    "#include \"TMVA/Factory.h\"\n",
    "#include \"TMVA/Tools.h\"\n",
    "#include \"TMVA/DataLoader.h\"\n",
    "#include \"TRInterface.h\"\n",
    "#include \"TMVA/MethodC50.h\"\n",
    "#include \"TMVA/MethodRSNNS.h\"\n",
    "#include \"TMVA/MethodRSVM.h\"\n",
    "#include \"TMVA/MethodRXGB.h\""
   ]
  },
  {
   "cell_type": "code",
   "execution_count": null,
   "metadata": {
    "collapsed": true
   },
   "outputs": [],
   "source": [
    "ROOT::R::TRInterface::Instance();\n",
    "TMVA::Tools::Instance();\n",
    "\n",
    "TString outfileName( \"TMVA.root\" );\n",
    "TFile* outputFile = TFile::Open( outfileName, \"RECREATE\" );\n",
    "\n",
    "TMVA::Factory *factory = new TMVA::Factory( \"TMVAClassification\", outputFile,\n",
    "                                               \"!V:ROC:Correlations:!Silent:Color:!DrawProgressBar:AnalysisType=Classification\" );\n",
    "   \n",
    "TMVA::DataLoader *loader=new TMVA::DataLoader(\"mymc-dataset\");\n",
    "\n",
    "   \n",
    "loader->AddVariable( \"var0\", 'F' );\n",
    "loader->AddVariable( \"var1\", 'F' );\n",
    "loader->AddVariable( \"var2\", 'F' );\n",
    "loader->AddVariable( \"var3 := var0-var1\", 'F' );\n",
    "loader->AddVariable( \"var4 := var0*var2\", 'F' );\n",
    "loader->AddVariable( \"var5 := var1+var2\", 'F' );\n",
    "\n",
    "TFile *input = TFile::Open( \"output2D.root\");\n",
    "   \n",
    "std::cout << \"--- TMVAClassification       : Using input file: \" << input->GetName() << std::endl;\n",
    "   \n",
    "// --- Register the training and test trees\n",
    "TTree *tsignal     = (TTree*)input->Get(\"MyMCSig\");\n",
    "TTree *tbackground = (TTree*)input->Get(\"MyMCBkg\");\n",
    "   \n",
    "Double_t signalWeight     = 1.0;\n",
    "Double_t backgroundWeight = 1.0;\n",
    "   \n",
    "loader->AddSignalTree    ( tsignal,     signalWeight     );\n",
    "loader->AddBackgroundTree( tbackground, backgroundWeight );   \n",
    "    \n",
    "TCut mycuts = \"\"; \n",
    "TCut mycutb = \"\"; \n",
    "\n",
    "loader->fSignalWeight=signalWeight;\n",
    "loader->fBackgroundWeight=backgroundWeight;\n",
    "loader->fTreeS=tsignal;\n",
    "loader->fTreeB=tbackground;\n",
    "loader->PrepareTrainingAndTestTree( mycuts, mycutb,\n",
    "                                        \"nTrain_Signal=3000:nTrain_Background=3000:nTest_Signal=1449:nTest_Background=1449:SplitMode=Random:NormMode=NumEvents:!V\" );\n",
    "//C50 Trees\n",
    "factory->BookMethod(loader, TMVA::Types::kC50, \"C50\",\"!H:NTrials=2:Rules=kTRUE:ControlSubSet=kFALSE:ControlBands=10:ControlWinnow=kFALSE:ControlNoGlobalPruning=kTRUE:ControlCF=0.25:ControlMinCases=2:ControlFuzzyThreshold=kTRUE:ControlSample=0:ControlEarlyStopping=kTRUE:!V\" );\n",
    "   \n",
    "//Neuronal Networks from RSNNS\n",
    "//factory->BookMethod(loader, TMVA::Types::kRSNNS, \"RMLP\",\"!H:VarTransform=N:Size=c(5):Maxit=800:InitFunc=Randomize_Weights:LearnFunc=Std_Backpropagation:LearnFuncParams=c(0.2,0):!V\" );\n",
    "   \n",
    "//SVM (support vector machine from e1071)\n",
    "//factory->BookMethod(loader, TMVA::Types::kRSVM, \"RSVM\",\"!H:Kernel=linear:Type=C-classification:VarTransform=Norm:Probability=kTRUE:Tolerance=0.001:!V\" );\n",
    "\n",
    "//eXtreme Gradient Boost XGB\n",
    "//factory->BookMethod(loader, TMVA::Types::kRXGB, \"RXGB\",\"!V:NRounds=80:MaxDepth=2:Eta=1\" );\n",
    "   \n",
    "factory->TrainAllMethods();\n",
    "\n",
    "factory->TestAllMethods();\n",
    "\n",
    "factory->EvaluateAllMethods();    \n",
    "\n",
    "// Save the output\n",
    "outputFile->Close();\n",
    "\n",
    "//    std::cout << \"==> Wrote root file: \" << outputFile->GetName() << std::endl;\n",
    "std::cout << \"==> TMVAClassification is done!\" << std::endl;\n",
    "\n",
    "delete factory;\n",
    "delete loader;"
   ]
  },
  {
   "cell_type": "code",
   "execution_count": null,
   "metadata": {
    "collapsed": true
   },
   "outputs": [],
   "source": []
  }
 ],
 "metadata": {
  "kernelspec": {
   "display_name": "ROOT",
   "language": "",
   "name": "root"
  },
  "language_info": {
   "codemirror_mode": "text/x-c++src",
   "file_extension": ".C",
   "mimetype": " text/x-c++src",
   "name": "c++"
  }
 },
 "nbformat": 4,
 "nbformat_minor": 0
}
