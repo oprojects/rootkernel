{
 "cells": [
  {
   "cell_type": "markdown",
   "metadata": {},
   "source": [
    "<img src=\"https://root.cern.ch/root/htmldoc/guides/users-guide/pictures/rootlogo.png\" height=\"50%\" width=\"50%\">\n",
    "<img src=\"http://jupyter.org/assets/main-logo.svg\">\n",
    "\n",
    "## Features\n",
    "\n",
    "* C++ highlighting\n",
    "* C++ Tab-completion\n",
    "* Python(Magic Cell) highlighting\n",
    "* Python(Magic Cell) Tab-completion (using jedi)\n",
    "* R(Magic Cell) highlighting\n",
    "* R(Magic Cell) Tab-completion (using jedi)\n",
    "* JSROOT implemented\n",
    "* ipython magics supported(shell,python,html,etc..)\n",
    "* I/O capture for segfault and in general\n",
    "* new magic added %%doc to show documentation for classes\n",
    "* magics %%cpp to declare functions and classes in cells or to compile with ACLiC\n",
    "* Tested under Gnu/Linux and MacOSX Yisemite\n",
    "\n",
    "## OPINION NOTE:\n",
    "I think that with this system, we can do a real data analysis using multiple languages\n",
    "and working between they\n"
   ]
  },
  {
   "cell_type": "code",
   "execution_count": null,
   "metadata": {
    "collapsed": false
   },
   "outputs": [],
   "source": [
    "#include <iostream>\n",
    "#include <TCanvas.h>\n",
    "#include <TF1.h>\n",
    "#include <TRInterface.h>"
   ]
  },
  {
   "cell_type": "markdown",
   "metadata": {},
   "source": [
    "# Plotting system"
   ]
  },
  {
   "cell_type": "code",
   "execution_count": null,
   "metadata": {
    "collapsed": false
   },
   "outputs": [],
   "source": [
    "TF1 f(\"f\",\"sin(x)\",0,6);\n",
    "f.Draw();\n",
    "gPad->Draw();"
   ]
  },
  {
   "cell_type": "markdown",
   "metadata": {},
   "source": [
    "# Segfault capture"
   ]
  },
  {
   "cell_type": "code",
   "execution_count": null,
   "metadata": {
    "collapsed": false
   },
   "outputs": [],
   "source": [
    "int *a=0;\n",
    "a[10]=0;"
   ]
  },
  {
   "cell_type": "markdown",
   "metadata": {},
   "source": [
    "# Using our magic %%cpp magic to declare functions and classes"
   ]
  },
  {
   "cell_type": "code",
   "execution_count": null,
   "metadata": {
    "collapsed": false
   },
   "outputs": [],
   "source": [
    "%%cpp -d\n",
    "void MyFunction()\n",
    "{\n",
    "    std::cout<<\"Hello from MyFucntion\"<<std::endl;\n",
    "}"
   ]
  },
  {
   "cell_type": "code",
   "execution_count": null,
   "metadata": {
    "collapsed": false
   },
   "outputs": [],
   "source": [
    "MyFunction();"
   ]
  },
  {
   "cell_type": "code",
   "execution_count": null,
   "metadata": {
    "collapsed": false
   },
   "outputs": [],
   "source": [
    "%%cpp -d\n",
    "class Test\n",
    "{\n",
    "  private:\n",
    "    std::string msg;\n",
    "  public:\n",
    "  Test(std::string _msg);\n",
    "  void Print();  \n",
    "};\n",
    "Test::Test(std::string _msg)\n",
    "{\n",
    "    msg=_msg;\n",
    "}\n",
    "void Test::Print()\n",
    "{\n",
    "    std::cout<<msg<<std::endl;\n",
    "}"
   ]
  },
  {
   "cell_type": "code",
   "execution_count": null,
   "metadata": {
    "collapsed": false
   },
   "outputs": [],
   "source": [
    "Test t(\"Hello from Class\");\n",
    "t.Print();"
   ]
  },
  {
   "cell_type": "markdown",
   "metadata": {},
   "source": [
    "# Using our magic %%doc (require discussion)"
   ]
  },
  {
   "cell_type": "code",
   "execution_count": null,
   "metadata": {
    "collapsed": false,
    "scrolled": false
   },
   "outputs": [],
   "source": [
    "%%doc -c TTree"
   ]
  },
  {
   "cell_type": "markdown",
   "metadata": {},
   "source": [
    "# Using other internal magics\n",
    "### NOTE: \n",
    "* the ipython kernels enable a set of default magics for all kernels, in iPyROOT in Cpp mode, the magics dont work(is a bug)\n",
    "* In this kernel the default magics is working\n"
   ]
  },
  {
   "cell_type": "markdown",
   "metadata": {},
   "source": [
    "# Bash"
   ]
  },
  {
   "cell_type": "code",
   "execution_count": null,
   "metadata": {
    "collapsed": false
   },
   "outputs": [],
   "source": [
    "%%shell\n",
    "for i in $(seq 1 1 10)\n",
    "do\n",
    "    echo -n $i\" \"\n",
    "done"
   ]
  },
  {
   "cell_type": "markdown",
   "metadata": {},
   "source": [
    "# HTML and Javascript\n",
    "\n",
    "LHC Video from CERN's channel in youtube (may useful for tutorials)\n"
   ]
  },
  {
   "cell_type": "code",
   "execution_count": null,
   "metadata": {
    "collapsed": false
   },
   "outputs": [],
   "source": [
    "%%html\n",
    "<iframe width=\"100%\" height=\"500\" src=\"https://www.youtube.com/embed/pQhbhpU9Wrg\" frameborder=\"0\" allowfullscreen></iframe>   "
   ]
  },
  {
   "cell_type": "markdown",
   "metadata": {},
   "source": [
    "# Time to measure the time taken for the execution of the cell"
   ]
  },
  {
   "cell_type": "code",
   "execution_count": null,
   "metadata": {
    "collapsed": false
   },
   "outputs": [],
   "source": [
    "%%time\n",
    "for(int i=0;i<3;i++)\n",
    "{\n",
    "    sleep(1);\n",
    "}\n",
    "std::cout<<\"Done!\"<<std::endl;"
   ]
  },
  {
   "cell_type": "markdown",
   "metadata": {
    "collapsed": false
   },
   "source": [
    "# Using Python Magic\n",
    "### NOTE\n",
    "* support highlighting\n",
    "* support Tab-completion (lets try)"
   ]
  },
  {
   "cell_type": "code",
   "execution_count": null,
   "metadata": {
    "collapsed": false
   },
   "outputs": [],
   "source": [
    "%%python\n",
    "from ROOT import TF1, gPad\n",
    "print(\"Testing Python\")\n",
    "f=TF1(\"f\",\"tanh(x)\",-10,10)\n",
    "f.Draw()\n",
    "gPad.Draw()\n",
    "print(\"DONE!\")\n",
    "import numpy.random\n"
   ]
  },
  {
   "cell_type": "markdown",
   "metadata": {
    "collapsed": false
   },
   "source": [
    "# Using R Magic\n",
    "Interaction using ROOT-R\n",
    "### NOTE\n",
    "* support highlighting\n",
    "\n",
    "* support Tab-completion (lets try)"
   ]
  },
  {
   "cell_type": "markdown",
   "metadata": {},
   "source": [
    "# Plotting Normal Distribution in R"
   ]
  },
  {
   "cell_type": "code",
   "execution_count": 1,
   "metadata": {
    "collapsed": false
   },
   "outputs": [
    {
     "data": {
      "image/png": "[encoded data removed]",
      "text/plain": [
       "<IPython.core.display.Image object>"
      ]
     },
     "metadata": {},
     "output_type": "display_data"
    }
   ],
   "source": [
    "%%r\n",
    "x <- seq(-4, 4, length=100)\n",
    "hx <- dnorm(x)\n",
    "\n",
    "plot(x, hx, type=\"l\", lty=1, xlab=\"x value\",\n",
    "  ylab=\"Density\", main=\"Normal Distributions\",col=\"blue\")\n",
    "\n",
    "legend(\"topright\", inset=.05, title=\"Distributions\",\n",
    "  c(\"normal\"), lwd=2, lty=c(1), col=\"blue\")"
   ]
  },
  {
   "cell_type": "markdown",
   "metadata": {},
   "source": [
    "# Interaction with C++\n",
    "Getting variables(data) from R and ploting with ROOT"
   ]
  },
  {
   "cell_type": "code",
   "execution_count": null,
   "metadata": {
    "collapsed": false
   },
   "outputs": [],
   "source": [
    "ROOT::R::TRInterface &r=ROOT::R::TRInterface::Instance();\n",
    "std::vector<float> x;\n",
    "std::vector<float> hx;\n",
    "r[\"x\"]>>x;\n",
    "r[\"hx\"]>>hx;\n",
    "TCanvas c(\"c\");\n",
    "TGraph g(x.size(),&x.begin()[0],&hx.begin()[0]);\n",
    "g.Draw();\n",
    "c.Draw();"
   ]
  },
  {
   "cell_type": "markdown",
   "metadata": {},
   "source": [
    "# Other R plots examples\n"
   ]
  },
  {
   "cell_type": "code",
   "execution_count": null,
   "metadata": {
    "collapsed": false
   },
   "outputs": [],
   "source": [
    "%%r\n",
    "attach(mtcars)\n",
    "par(mfrow=c(2,2))\n",
    "plot(wt,mpg, main=\"Scatterplot of wt vs. mpg\")\n",
    "plot(wt,disp, main=\"Scatterplot of wt vs disp\")\n",
    "hist(wt, main=\"Histogram of wt\")\n",
    "boxplot(wt, main=\"Boxplot of wt\")"
   ]
  },
  {
   "cell_type": "code",
   "execution_count": null,
   "metadata": {
    "collapsed": false
   },
   "outputs": [],
   "source": [
    "%%r\n",
    "x <- seq(-4, 4, length=100)\n",
    "hx <- dnorm(x)\n",
    "\n",
    "degf <- c(1, 3, 8, 30)\n",
    "colors <- c(\"red\", \"blue\", \"darkgreen\", \"gold\", \"black\")\n",
    "labels <- c(\"df=1\", \"df=3\", \"df=8\", \"df=30\", \"normal\")\n",
    "\n",
    "plot(x, hx, type=\"l\", lty=2, xlab=\"x value\",\n",
    "  ylab=\"Density\", main=\"Comparison of t Distributions\")\n",
    "\n",
    "for (i in 1:4){\n",
    "  lines(x, dt(x,degf[i]), lwd=2, col=colors[i])\n",
    "}\n",
    "\n",
    "legend(\"topright\", inset=.05, title=\"Distributions\",\n",
    "  labels, lwd=2, lty=c(1, 1, 1, 1, 2), col=colors)"
   ]
  },
  {
   "cell_type": "code",
   "execution_count": null,
   "metadata": {
    "collapsed": true
   },
   "outputs": [],
   "source": []
  }
 ],
 "metadata": {
  "kernelspec": {
   "display_name": "ROOT",
   "language": "c++",
   "name": "root"
  },
  "language_info": {
   "codemirror_mode": "text/x-c++src",
   "file_extension": ".C",
   "mimetype": " text/x-c++src",
   "name": "c++"
  }
 },
 "nbformat": 4,
 "nbformat_minor": 0
}
